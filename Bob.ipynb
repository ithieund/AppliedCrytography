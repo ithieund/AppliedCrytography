{
  "nbformat": 4,
  "nbformat_minor": 0,
  "metadata": {
    "colab": {
      "name": "Bob(1).ipynb",
      "provenance": [],
      "collapsed_sections": [],
      "toc_visible": true
    },
    "kernelspec": {
      "name": "python3",
      "display_name": "Python 3"
    }
  },
  "cells": [
    {
      "cell_type": "code",
      "metadata": {
        "colab": {
          "base_uri": "https://localhost:8080/"
        },
        "id": "9hVXkVxm5wB0",
        "outputId": "b275d6d8-734c-4a72-b363-4670f4815d22"
      },
      "source": [
        "!pip install pycryptodome\n",
        "!pip install libnum"
      ],
      "execution_count": null,
      "outputs": [
        {
          "output_type": "stream",
          "text": [
            "Collecting pycryptodome\n",
            "\u001b[?25l  Downloading https://files.pythonhosted.org/packages/2b/6f/7e38d7c97fbbc3987539c804282c33f56b6b07381bf2390deead696440c5/pycryptodome-3.9.9-cp36-cp36m-manylinux1_x86_64.whl (13.7MB)\n",
            "\u001b[K     |████████████████████████████████| 13.7MB 308kB/s \n",
            "\u001b[?25hInstalling collected packages: pycryptodome\n",
            "Successfully installed pycryptodome-3.9.9\n",
            "Collecting libnum\n",
            "  Downloading https://files.pythonhosted.org/packages/5f/c7/17e4c6bf91e06c6ac1fbe2100f4761248cac960e63a4cc4d63a9c53afac0/libnum-1.7.1-py3-none-any.whl\n",
            "Installing collected packages: libnum\n",
            "Successfully installed libnum-1.7.1\n"
          ],
          "name": "stdout"
        }
      ]
    },
    {
      "cell_type": "code",
      "metadata": {
        "colab": {
          "base_uri": "https://localhost:8080/"
        },
        "id": "ixwMrdagkOzy",
        "outputId": "899ddaf9-669e-44e3-802b-77ed734f21f7"
      },
      "source": [
        "from google.colab import drive\n",
        "drive.mount('/content/drive')"
      ],
      "execution_count": null,
      "outputs": [
        {
          "output_type": "stream",
          "text": [
            "Mounted at /content/drive\n"
          ],
          "name": "stdout"
        }
      ]
    },
    {
      "cell_type": "code",
      "metadata": {
        "id": "RC13c6NfWOo7"
      },
      "source": [
        "import sys\n",
        "sys.path.append('/content/drive/MyDrive/CoLab/Applied Crytography/')\n",
        "from corelib import *"
      ],
      "execution_count": null,
      "outputs": []
    },
    {
      "cell_type": "markdown",
      "metadata": {
        "id": "arLUPz9oiC67"
      },
      "source": [
        "#1. Chuẩn bị"
      ]
    },
    {
      "cell_type": "markdown",
      "metadata": {
        "id": "QS5AtaxDgHTU"
      },
      "source": [
        "##1.1. RSA\n",
        "Bob dùng hàm rsa_keygen để tạo public key & private key"
      ]
    },
    {
      "cell_type": "code",
      "metadata": {
        "id": "KTSKgl9UY__F",
        "colab": {
          "base_uri": "https://localhost:8080/"
        },
        "outputId": "4204ebd8-dd4c-4ea7-fb61-977b5eb7c4cd"
      },
      "source": [
        "publickey, privatekey = rsa_keygen()\n",
        "print('Public key', publickey)\n",
        "print('Private key', privatekey)"
      ],
      "execution_count": null,
      "outputs": [
        {
          "output_type": "stream",
          "text": [
            "Public key (1261539080901866626210198941283, 772828713920824982523364279670053105891403889745831724382191)\n",
            "Private key (485584346270657878094065684602587157349850049410375886266059, 772828713920824982523364279670053105891403889745831724382191)\n"
          ],
          "name": "stdout"
        }
      ]
    },
    {
      "cell_type": "markdown",
      "metadata": {
        "id": "jxbFlYTpJrhI"
      },
      "source": [
        "Sau đó ghi public key vào file bob_publickey.txt rồi gửi cho Alice"
      ]
    },
    {
      "cell_type": "code",
      "metadata": {
        "colab": {
          "base_uri": "https://localhost:8080/"
        },
        "id": "GcXx0NGU02hA",
        "outputId": "4a8487ca-6852-46ab-baad-f06456a21a46"
      },
      "source": [
        "file_write_array('/content/drive/MyDrive/CoLab/Applied Crytography/bob_publickey.txt', publickey)"
      ],
      "execution_count": null,
      "outputs": [
        {
          "output_type": "execute_result",
          "data": {
            "text/plain": [
              "True"
            ]
          },
          "metadata": {
            "tags": []
          },
          "execution_count": 36
        }
      ]
    },
    {
      "cell_type": "markdown",
      "metadata": {
        "id": "nrl4--ZHJ2aI"
      },
      "source": [
        "Bob cũng nhận được file alice_publickey.txt của Alice, Bob đọc file này để có public key"
      ]
    },
    {
      "cell_type": "code",
      "metadata": {
        "id": "qP4FkxZp3Ubq",
        "colab": {
          "base_uri": "https://localhost:8080/"
        },
        "outputId": "e7df0522-4ae3-4573-f912-dbcc3aedabee"
      },
      "source": [
        "alice_rsa_publickey = file_read_array('/content/drive/MyDrive/CoLab/Applied Crytography/alice_publickey.txt')\n",
        "print(alice_rsa_publickey)"
      ],
      "execution_count": null,
      "outputs": [
        {
          "output_type": "stream",
          "text": [
            "[1005338133771723824417952592417, 623404998140488331528930995460821027130628082907569713675721]\n"
          ],
          "name": "stdout"
        }
      ]
    },
    {
      "cell_type": "markdown",
      "metadata": {
        "id": "4QvPG5gliLjL"
      },
      "source": [
        "#2. Giải mã"
      ]
    },
    {
      "cell_type": "markdown",
      "metadata": {
        "id": "-UC2xqW6rKxj"
      },
      "source": [
        "##2.1. Giải mã AES key"
      ]
    },
    {
      "cell_type": "markdown",
      "metadata": {
        "id": "6k1EsgvFJ9Et"
      },
      "source": [
        "Bob dùng hàm file_read_array để đọc AES Key đã mã hóa mà Alice gửi"
      ]
    },
    {
      "cell_type": "code",
      "metadata": {
        "colab": {
          "base_uri": "https://localhost:8080/"
        },
        "id": "9khqCMVXrQIN",
        "outputId": "44b9700b-0a0d-4c62-b217-dfaed9388f63"
      },
      "source": [
        "ctext = file_read_array('/content/drive/MyDrive/CoLab/Applied Crytography/alice_aes_key.txt')\n",
        "print(ctext)"
      ],
      "execution_count": null,
      "outputs": [
        {
          "output_type": "stream",
          "text": [
            "[203523798616596190259241860845778380016475912912773119951076, 396590001221089078513006320129893453293079366085233705100240]\n"
          ],
          "name": "stdout"
        }
      ]
    },
    {
      "cell_type": "markdown",
      "metadata": {
        "id": "TeAO6DY8KK9T"
      },
      "source": [
        "Sau đó dùng hàm rsa_decrypt để giải mã chuỗi cipher để có được AES Key của Alice"
      ]
    },
    {
      "cell_type": "code",
      "metadata": {
        "colab": {
          "base_uri": "https://localhost:8080/"
        },
        "id": "-Fxcg5tmrnY5",
        "outputId": "d70c37e7-0e13-4340-e5e1-0761cdb34792"
      },
      "source": [
        "alice_aes_key = rsa_decrypt(ctext, privatekey)\n",
        "print(alice_aes_key)"
      ],
      "execution_count": null,
      "outputs": [
        {
          "output_type": "stream",
          "text": [
            "Alice@AES1234567\n"
          ],
          "name": "stdout"
        }
      ]
    },
    {
      "cell_type": "markdown",
      "metadata": {
        "id": "m_rlrSwbkTje"
      },
      "source": [
        "##2.2. Giải mã  thông điệp\n",
        "Sau khi nhận được nội dung từ alice trong file alice_cipherfile.txt, Bob tiến hành giải mã thông điệp"
      ]
    },
    {
      "cell_type": "code",
      "metadata": {
        "id": "DkbbvJkGOLfb",
        "colab": {
          "base_uri": "https://localhost:8080/"
        },
        "outputId": "f7308b25-dc46-4018-b382-302aada57671"
      },
      "source": [
        "aes_decrypt(alice_aes_key.encode('utf8'), '/content/drive/MyDrive/CoLab/Applied Crytography/alice_cipherfile.txt', 'alice_plainmessage.txt')\n",
        "plainfile = open('alice_plainmessage.txt')\n",
        "message = plainfile.read()\n",
        "print('Message', message)"
      ],
      "execution_count": null,
      "outputs": [
        {
          "output_type": "stream",
          "text": [
            "Message Hello Bob! Can I borrow you some money?\n"
          ],
          "name": "stdout"
        }
      ]
    },
    {
      "cell_type": "markdown",
      "metadata": {
        "id": "2l8ltgVLlvQj"
      },
      "source": [
        "##2.3. Xác thực chữ ký\n",
        "Để kiểm chứng thông điệp trên đúng là do Alice gửi, Bob tiến hành xác thực chữ ký"
      ]
    },
    {
      "cell_type": "code",
      "metadata": {
        "id": "eAXlctJrWycx",
        "colab": {
          "base_uri": "https://localhost:8080/"
        },
        "outputId": "8c648115-83ff-4f18-81ce-377d23bbd132"
      },
      "source": [
        "signature = file_read_array('/content/drive/MyDrive/CoLab/Applied Crytography/alice_signature.txt')\n",
        "print(signature)"
      ],
      "execution_count": null,
      "outputs": [
        {
          "output_type": "stream",
          "text": [
            "[283073230491058599787932000534120571550103144536462807238993, 517488592760781465185443581500235075515763541968393963429505, 412820013345258904145683428478892228242952202461386237742598, 546140119731087056310042770713775914250063023565398970871223, 575835242056158095723787222338958625392036342606605315394284, 382654049259113701774546052595256660378459446432292328379864, 428444943822098354262655154973874237007666455632825413253832]\n"
          ],
          "name": "stdout"
        }
      ]
    },
    {
      "cell_type": "markdown",
      "metadata": {
        "id": "MVIPMacxnwLq"
      },
      "source": [
        "Bob dùng rsa_decrypt để giải mã chữ ký số của Alice bằng chính public key của Alice để có được chuỗi digest từ chữ ký"
      ]
    },
    {
      "cell_type": "code",
      "metadata": {
        "colab": {
          "base_uri": "https://localhost:8080/"
        },
        "id": "3VeG7EF7nodO",
        "outputId": "226d9c89-c1bd-4c44-e68e-31c483a6fb7f"
      },
      "source": [
        "alice_digest = rsa_decrypt(signature, alice_rsa_publickey)\n",
        "print('Signature digest', alice_digest)"
      ],
      "execution_count": null,
      "outputs": [
        {
          "output_type": "stream",
          "text": [
            "Signature digest c32e23a6fc55db52d43bf13fd6eda0121fb03a3124bec81ea9405838793bc994\n"
          ],
          "name": "stdout"
        }
      ]
    },
    {
      "cell_type": "markdown",
      "metadata": {
        "id": "rKskMaWfK4gg"
      },
      "source": [
        "Bob tiếp tục tạo chuỗi digest từ chính message mà mình đã đọc được"
      ]
    },
    {
      "cell_type": "code",
      "metadata": {
        "id": "QhPlM4HHObqC",
        "colab": {
          "base_uri": "https://localhost:8080/"
        },
        "outputId": "77877e1b-6708-4c8e-eaf6-c1893b028fad"
      },
      "source": [
        "compare_digest = str(sha_digest(message.encode('utf8')))\r\n",
        "print(compare_digest)"
      ],
      "execution_count": null,
      "outputs": [
        {
          "output_type": "stream",
          "text": [
            "c32e23a6fc55db52d43bf13fd6eda0121fb03a3124bec81ea9405838793bc994\n"
          ],
          "name": "stdout"
        }
      ]
    },
    {
      "cell_type": "markdown",
      "metadata": {
        "id": "arf-Jy2qLE-P"
      },
      "source": [
        "Cuối cùng, Bob compare chuỗi digest từ chữ ký với chuỗi digest từ message mà mình đọc được để xác thực nội dung"
      ]
    },
    {
      "cell_type": "code",
      "metadata": {
        "colab": {
          "base_uri": "https://localhost:8080/"
        },
        "id": "86EvMDFxOisf",
        "outputId": "9dd1229e-ded0-480e-cfaf-f66df6266c19"
      },
      "source": [
        "if (alice_digest == compare_digest):\n",
        "  print('The message is from Alice')\n",
        "else:\n",
        "  print('The message is NOT from Alice')"
      ],
      "execution_count": null,
      "outputs": [
        {
          "output_type": "stream",
          "text": [
            "The message is from Alice\n"
          ],
          "name": "stdout"
        }
      ]
    }
  ]
}