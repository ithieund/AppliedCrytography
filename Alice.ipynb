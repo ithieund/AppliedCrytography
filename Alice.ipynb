{
  "nbformat": 4,
  "nbformat_minor": 0,
  "metadata": {
    "colab": {
      "name": "Alice(1).ipynb",
      "provenance": [],
      "collapsed_sections": [],
      "toc_visible": true
    },
    "kernelspec": {
      "name": "python3",
      "display_name": "Python 3"
    }
  },
  "cells": [
    {
      "cell_type": "code",
      "metadata": {
        "colab": {
          "base_uri": "https://localhost:8080/"
        },
        "id": "9hVXkVxm5wB0",
        "outputId": "cc58a151-4ba2-4344-be19-07c7a203b8a9"
      },
      "source": [
        "!pip install pycryptodome\n",
        "!pip install libnum"
      ],
      "execution_count": null,
      "outputs": [
        {
          "output_type": "stream",
          "text": [
            "Collecting pycryptodome\n",
            "\u001b[?25l  Downloading https://files.pythonhosted.org/packages/2b/6f/7e38d7c97fbbc3987539c804282c33f56b6b07381bf2390deead696440c5/pycryptodome-3.9.9-cp36-cp36m-manylinux1_x86_64.whl (13.7MB)\n",
            "\u001b[K     |████████████████████████████████| 13.7MB 335kB/s \n",
            "\u001b[?25hInstalling collected packages: pycryptodome\n",
            "Successfully installed pycryptodome-3.9.9\n",
            "Collecting libnum\n",
            "  Downloading https://files.pythonhosted.org/packages/5f/c7/17e4c6bf91e06c6ac1fbe2100f4761248cac960e63a4cc4d63a9c53afac0/libnum-1.7.1-py3-none-any.whl\n",
            "Installing collected packages: libnum\n",
            "Successfully installed libnum-1.7.1\n"
          ],
          "name": "stdout"
        }
      ]
    },
    {
      "cell_type": "code",
      "metadata": {
        "id": "K7OXs8iOR1F3",
        "colab": {
          "base_uri": "https://localhost:8080/"
        },
        "outputId": "db9708e0-e775-4273-d05a-76352306a4fb"
      },
      "source": [
        "from google.colab import drive\n",
        "drive.mount('/content/drive')"
      ],
      "execution_count": null,
      "outputs": [
        {
          "output_type": "stream",
          "text": [
            "Mounted at /content/drive\n"
          ],
          "name": "stdout"
        }
      ]
    },
    {
      "cell_type": "code",
      "metadata": {
        "id": "RC13c6NfWOo7"
      },
      "source": [
        "import sys\n",
        "sys.path.append('/content/drive/MyDrive/CoLab/Applied Crytography/')\n",
        "from corelib import *"
      ],
      "execution_count": null,
      "outputs": []
    },
    {
      "cell_type": "markdown",
      "metadata": {
        "id": "arLUPz9oiC67"
      },
      "source": [
        "#1. Chuẩn bị"
      ]
    },
    {
      "cell_type": "markdown",
      "metadata": {
        "id": "QS5AtaxDgHTU"
      },
      "source": [
        "##1.1. RSA\n",
        "Alice dùng hàm rsa_keygen để tạo public key & private key"
      ]
    },
    {
      "cell_type": "code",
      "metadata": {
        "colab": {
          "base_uri": "https://localhost:8080/"
        },
        "id": "KTSKgl9UY__F",
        "outputId": "53dcad31-a95d-45d2-dc4b-02f9a09fb0c4"
      },
      "source": [
        "publickey, privatekey = rsa_keygen()\n",
        "print('Public key', publickey)\n",
        "print('Private key', privatekey)"
      ],
      "execution_count": null,
      "outputs": [
        {
          "output_type": "stream",
          "text": [
            "Public key (1005338133771723824417952592417, 623404998140488331528930995460821027130628082907569713675721)\n",
            "Private key (216986816262411552969668351172349065494930659188454732870353, 623404998140488331528930995460821027130628082907569713675721)\n"
          ],
          "name": "stdout"
        }
      ]
    },
    {
      "cell_type": "markdown",
      "metadata": {
        "id": "zkA7MWjqH1HF"
      },
      "source": [
        "Sau đó ghi public key vào file alice_publickey.txt rồi gửi cho Bob"
      ]
    },
    {
      "cell_type": "code",
      "metadata": {
        "colab": {
          "base_uri": "https://localhost:8080/"
        },
        "id": "_-jUAFu2zSNj",
        "outputId": "b9abbb70-e7e2-4462-f796-747233847628"
      },
      "source": [
        "file_write_array('/content/drive/MyDrive/CoLab/Applied Crytography/alice_publickey.txt', publickey)"
      ],
      "execution_count": null,
      "outputs": [
        {
          "output_type": "execute_result",
          "data": {
            "text/plain": [
              "True"
            ]
          },
          "metadata": {
            "tags": []
          },
          "execution_count": 23
        }
      ]
    },
    {
      "cell_type": "markdown",
      "metadata": {
        "id": "H0QsedpAH6R2"
      },
      "source": [
        "Alice cũng nhận được file bob_publickey.txt của Bob, Alice đọc file này để có public key"
      ]
    },
    {
      "cell_type": "code",
      "metadata": {
        "id": "7F8U9MNj1rGL",
        "colab": {
          "base_uri": "https://localhost:8080/"
        },
        "outputId": "a3f57450-34dc-49cb-b52c-ce321f20cce0"
      },
      "source": [
        "bob_rsa_publickey = file_read_array('/content/drive/MyDrive/CoLab/Applied Crytography/bob_publickey.txt')\n",
        "print(bob_rsa_publickey)"
      ],
      "execution_count": null,
      "outputs": [
        {
          "output_type": "stream",
          "text": [
            "[1261539080901866626210198941283, 772828713920824982523364279670053105891403889745831724382191]\n"
          ],
          "name": "stdout"
        }
      ]
    },
    {
      "cell_type": "markdown",
      "metadata": {
        "id": "kDw3DCsNelPF"
      },
      "source": [
        "##1.2. AES\n",
        "Alice đặt Key AES để mã hóa thông điệp, sau đó mã hóa Key AES này bằng hàm rsa_encrypt sử dụng public key của Bob"
      ]
    },
    {
      "cell_type": "code",
      "metadata": {
        "colab": {
          "base_uri": "https://localhost:8080/"
        },
        "id": "iJ2VOn_1G8ii",
        "outputId": "64e40b14-bba8-4111-fd33-5f51ea50f228"
      },
      "source": [
        "alice_aes_key = 'Alice@AES1234567'\n",
        "ctext = rsa_encrypt(alice_aes_key, bob_rsa_publickey)\n",
        "print(\"Encryted AES key\", ctext)"
      ],
      "execution_count": null,
      "outputs": [
        {
          "output_type": "stream",
          "text": [
            "Encryted AES key [203523798616596190259241860845778380016475912912773119951076, 396590001221089078513006320129893453293079366085233705100240]\n"
          ],
          "name": "stdout"
        }
      ]
    },
    {
      "cell_type": "markdown",
      "metadata": {
        "id": "uds_r0tSIfJm"
      },
      "source": [
        "Alice lưu Key AES đã mã hóa vào file alice_aes_key.txt rồi gửi cho Bob để Bob có thể giãi mã thông điệp"
      ]
    },
    {
      "cell_type": "code",
      "metadata": {
        "colab": {
          "base_uri": "https://localhost:8080/"
        },
        "id": "6KLwva3MfQHV",
        "outputId": "45ec5483-d24d-4365-fdff-345a390a1180"
      },
      "source": [
        "file_write_array('/content/drive/MyDrive/CoLab/Applied Crytography/alice_aes_key.txt', ctext)"
      ],
      "execution_count": null,
      "outputs": [
        {
          "output_type": "execute_result",
          "data": {
            "text/plain": [
              "True"
            ]
          },
          "metadata": {
            "tags": []
          },
          "execution_count": 26
        }
      ]
    },
    {
      "cell_type": "markdown",
      "metadata": {
        "id": "4QvPG5gliLjL"
      },
      "source": [
        "#2. Gửi thông điệp"
      ]
    },
    {
      "cell_type": "code",
      "metadata": {
        "id": "m1yUqhFElPvU"
      },
      "source": [
        "message = 'Hello Bob! Can I borrow you some money?'\r\n",
        "plainfile = open('alice_plainfile.txt', 'w')\r\n",
        "plainfile.write(message)\r\n",
        "plainfile.close()"
      ],
      "execution_count": null,
      "outputs": []
    },
    {
      "cell_type": "markdown",
      "metadata": {
        "id": "m_rlrSwbkTje"
      },
      "source": [
        "##2.1. Mã hóa thông điệp\n",
        "Alice nhập nội dung tin nhắn vào file alice_plainfile.txt, sau đó dùng hàm aes_encrypt để mã hóa thành file alice_cipherfile.txt"
      ]
    },
    {
      "cell_type": "code",
      "metadata": {
        "colab": {
          "base_uri": "https://localhost:8080/",
          "height": 35
        },
        "id": "DkbbvJkGOLfb",
        "outputId": "a220b036-5730-4932-814a-6ca461ae0ebb"
      },
      "source": [
        "aes_encrypt(alice_aes_key.encode('utf8'), 'alice_plainfile.txt', '/content/drive/MyDrive/CoLab/Applied Crytography/alice_cipherfile.txt')"
      ],
      "execution_count": null,
      "outputs": [
        {
          "output_type": "execute_result",
          "data": {
            "application/vnd.google.colaboratory.intrinsic+json": {
              "type": "string"
            },
            "text/plain": [
              "'/content/drive/MyDrive/CoLab/Applied Crytography/alice_cipherfile.txt'"
            ]
          },
          "metadata": {
            "tags": []
          },
          "execution_count": 28
        }
      ]
    },
    {
      "cell_type": "markdown",
      "metadata": {
        "id": "2l8ltgVLlvQj"
      },
      "source": [
        "##2.2. Chữ ký xác thực\n",
        "Alice dùng hàm sha_digest để tạo mã băm SHA256 từ message gốc"
      ]
    },
    {
      "cell_type": "code",
      "metadata": {
        "id": "eAXlctJrWycx"
      },
      "source": [
        "digest = str(sha_digest(message.encode('utf8')))"
      ],
      "execution_count": null,
      "outputs": []
    },
    {
      "cell_type": "markdown",
      "metadata": {
        "id": "MVIPMacxnwLq"
      },
      "source": [
        "Alice dùng RSA để tạo chữ ký từ mã băm digest"
      ]
    },
    {
      "cell_type": "code",
      "metadata": {
        "id": "3VeG7EF7nodO",
        "colab": {
          "base_uri": "https://localhost:8080/"
        },
        "outputId": "23a5aa74-2981-4f0e-c7c5-3ca7271ccddc"
      },
      "source": [
        "signature = rsa_encrypt(digest, privatekey)\n",
        "print('Signature', signature)"
      ],
      "execution_count": null,
      "outputs": [
        {
          "output_type": "stream",
          "text": [
            "Signature [283073230491058599787932000534120571550103144536462807238993, 517488592760781465185443581500235075515763541968393963429505, 412820013345258904145683428478892228242952202461386237742598, 546140119731087056310042770713775914250063023565398970871223, 575835242056158095723787222338958625392036342606605315394284, 382654049259113701774546052595256660378459446432292328379864, 428444943822098354262655154973874237007666455632825413253832]\n"
          ],
          "name": "stdout"
        }
      ]
    },
    {
      "cell_type": "markdown",
      "metadata": {
        "id": "YaOF6PxrI9zT"
      },
      "source": [
        "Alice ghi chữ ký vào file alice_signature.txt rồi gửi cả cipherfile và signature cho Bob"
      ]
    },
    {
      "cell_type": "code",
      "metadata": {
        "id": "wvXGbWzjJj4X",
        "colab": {
          "base_uri": "https://localhost:8080/"
        },
        "outputId": "ef99aed4-5553-404b-a988-c5c58686d2c8"
      },
      "source": [
        "file_write_array('/content/drive/MyDrive/CoLab/Applied Crytography/alice_signature.txt', signature)"
      ],
      "execution_count": null,
      "outputs": [
        {
          "output_type": "execute_result",
          "data": {
            "text/plain": [
              "True"
            ]
          },
          "metadata": {
            "tags": []
          },
          "execution_count": 31
        }
      ]
    }
  ]
}